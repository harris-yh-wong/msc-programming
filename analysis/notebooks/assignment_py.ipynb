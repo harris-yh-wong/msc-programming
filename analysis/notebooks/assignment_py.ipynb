{
 "cells": [
  {
   "cell_type": "code",
   "execution_count": null,
   "metadata": {},
   "outputs": [],
   "source": []
  },
  {
   "cell_type": "markdown",
   "metadata": {},
   "source": [
    "# Setup\n",
    "\n"
   ]
  },
  {
   "cell_type": "code",
   "execution_count": 2,
   "metadata": {},
   "outputs": [],
   "source": [
    "height_weight_values = [(1.89,87), (1.85,None), (1.95,104), (1.49,61), (1.89,104), (1.47,92), (1.54,111), (1.74,90), (1.69,None), (1.95,81)]"
   ]
  },
  {
   "cell_type": "markdown",
   "metadata": {},
   "source": [
    "## 1.1 \n",
    "Write a function called calculate_bmi that takes height (in m) and weight (in kg) as arguments and returns the BMI rounded to two decimal places. The function should return the Python constant None, if either of the arguments are None."
   ]
  },
  {
   "cell_type": "code",
   "execution_count": 38,
   "metadata": {},
   "outputs": [],
   "source": [
    "def calculate_bmi(height, weight):\n",
    "    if height is None or weight is None: return None\n",
    "    bmi = weight / height ** 2\n",
    "    bmi = round(bmi, 2)\n",
    "    return bmi\n",
    "    "
   ]
  },
  {
   "cell_type": "markdown",
   "metadata": {},
   "source": [
    "## 1.2\n",
    " Test your calculate_bmifunction by printing out the returned numeric value for a range of diﬀerent heights and weights. At least one of your tests should use keyword arguments. Are there any numeric values of the arguments that cause your function to give an error or exception? If so, comment out these tests and write a comment above the tests explaining this behaviour."
   ]
  },
  {
   "cell_type": "code",
   "execution_count": null,
   "metadata": {},
   "outputs": [],
   "source": [
    "# detour: draw a heatmap plot\n"
   ]
  },
  {
   "cell_type": "code",
   "execution_count": 34,
   "metadata": {},
   "outputs": [
    {
     "name": "stdout",
     "output_type": "stream",
     "text": [
      "bmi=23.24598478444632\n"
     ]
    },
    {
     "ename": "ZeroDivisionError",
     "evalue": "float division by zero",
     "output_type": "error",
     "traceback": [
      "\u001b[1;31m---------------------------------------------------------------------------\u001b[0m",
      "\u001b[1;31mZeroDivisionError\u001b[0m                         Traceback (most recent call last)",
      "\u001b[1;32m<ipython-input-34-81bf3e387e8c>\u001b[0m in \u001b[0;36m<module>\u001b[1;34m\u001b[0m\n\u001b[0;32m      1\u001b[0m \u001b[0mcalculate_bmi\u001b[0m\u001b[1;33m(\u001b[0m\u001b[0mweight\u001b[0m \u001b[1;33m=\u001b[0m \u001b[1;36m77\u001b[0m\u001b[1;33m,\u001b[0m \u001b[0mheight\u001b[0m \u001b[1;33m=\u001b[0m \u001b[1;36m1.82\u001b[0m\u001b[1;33m)\u001b[0m \u001b[1;31m# elvis presley\u001b[0m\u001b[1;33m\u001b[0m\u001b[1;33m\u001b[0m\u001b[0m\n\u001b[0;32m      2\u001b[0m \u001b[0mcalculate_bmi\u001b[0m\u001b[1;33m(\u001b[0m\u001b[1;32mNone\u001b[0m\u001b[1;33m,\u001b[0m \u001b[1;32mNone\u001b[0m\u001b[1;33m)\u001b[0m\u001b[1;33m\u001b[0m\u001b[1;33m\u001b[0m\u001b[0m\n\u001b[1;32m----> 3\u001b[1;33m \u001b[0mcalculate_bmi\u001b[0m\u001b[1;33m(\u001b[0m\u001b[0mheight\u001b[0m \u001b[1;33m=\u001b[0m \u001b[1;36m0.0\u001b[0m\u001b[1;33m,\u001b[0m \u001b[0mweight\u001b[0m \u001b[1;33m=\u001b[0m \u001b[1;36m1\u001b[0m\u001b[1;33m)\u001b[0m\u001b[1;33m\u001b[0m\u001b[1;33m\u001b[0m\u001b[0m\n\u001b[0m",
      "\u001b[1;32m<ipython-input-29-7751f9ae13e4>\u001b[0m in \u001b[0;36mcalculate_bmi\u001b[1;34m(height, weight)\u001b[0m\n\u001b[0;32m      1\u001b[0m \u001b[1;32mdef\u001b[0m \u001b[0mcalculate_bmi\u001b[0m\u001b[1;33m(\u001b[0m\u001b[0mheight\u001b[0m\u001b[1;33m,\u001b[0m \u001b[0mweight\u001b[0m\u001b[1;33m)\u001b[0m\u001b[1;33m:\u001b[0m\u001b[1;33m\u001b[0m\u001b[1;33m\u001b[0m\u001b[0m\n\u001b[0;32m      2\u001b[0m     \u001b[1;32mif\u001b[0m \u001b[0mheight\u001b[0m \u001b[1;32mis\u001b[0m \u001b[1;32mNone\u001b[0m \u001b[1;32mor\u001b[0m \u001b[0mweight\u001b[0m \u001b[1;32mis\u001b[0m \u001b[1;32mNone\u001b[0m\u001b[1;33m:\u001b[0m \u001b[1;32mreturn\u001b[0m \u001b[1;32mNone\u001b[0m\u001b[1;33m\u001b[0m\u001b[1;33m\u001b[0m\u001b[0m\n\u001b[1;32m----> 3\u001b[1;33m     \u001b[0mbmi\u001b[0m \u001b[1;33m=\u001b[0m \u001b[0mweight\u001b[0m \u001b[1;33m/\u001b[0m \u001b[0mheight\u001b[0m \u001b[1;33m**\u001b[0m \u001b[1;36m2\u001b[0m\u001b[1;33m\u001b[0m\u001b[1;33m\u001b[0m\u001b[0m\n\u001b[0m\u001b[0;32m      4\u001b[0m     \u001b[0mprint\u001b[0m\u001b[1;33m(\u001b[0m\u001b[1;34mf'{bmi=}'\u001b[0m\u001b[1;33m)\u001b[0m\u001b[1;33m\u001b[0m\u001b[1;33m\u001b[0m\u001b[0m\n\u001b[0;32m      5\u001b[0m     \u001b[0mbmi\u001b[0m \u001b[1;33m=\u001b[0m \u001b[0mround\u001b[0m\u001b[1;33m(\u001b[0m\u001b[0mbmi\u001b[0m\u001b[1;33m,\u001b[0m \u001b[1;36m2\u001b[0m\u001b[1;33m)\u001b[0m\u001b[1;33m\u001b[0m\u001b[1;33m\u001b[0m\u001b[0m\n",
      "\u001b[1;31mZeroDivisionError\u001b[0m: float division by zero"
     ]
    }
   ],
   "source": [
    "calculate_bmi(weight = 77, height = 1.82) # elvis presley\n",
    "calculate_bmi(None, None)\n",
    "# If height is 0, then it would throw an error because there is division by zero\n",
    "# calculate_bmi(height = 0, weight = 1)\n"
   ]
  },
  {
   "cell_type": "markdown",
   "metadata": {},
   "source": [
    "## 1.3\n",
    "In the introduction to this exercise, you are given a ```height_weight_values``` list. Iterate over this list , and for each pair of numeric values, use your ```calculate_bmi_2``` function from the previous question, to compute the BMI, placing it in a new list called ```bmi_values```. Print out the results. One of the available points is for doing this using list comprehension."
   ]
  },
  {
   "cell_type": "code",
   "execution_count": 44,
   "metadata": {},
   "outputs": [
    {
     "name": "stdout",
     "output_type": "stream",
     "text": [
      "[24.36, None, 27.35, 27.48, 29.11, 42.57, 46.8, 29.73, None, 21.3]\n"
     ]
    }
   ],
   "source": [
    "bmi_values = [calculate_bmi(height = tup[0], weight = tup[1]) for tup in height_weight_values]\n",
    "print(bmi_values)"
   ]
  },
  {
   "cell_type": "markdown",
   "metadata": {},
   "source": [
    "## 1.4\n",
    "Write a function called ```lookup_bmi_category``` that, given a BMI, uses an ```if``` / ```elif``` /\n",
    "```else``` statement and returns an integer category, as deﬁned in the exercise introduction. If the BMI is ```None```, then the function should also return ```None```.\n",
    "\n",
    "BMI is the mass of a person (in kg) divided by the square of their height (in m).\n",
    "The WHO regards BMI less than 18.5 to be underweight, between 18.5 and 25 to be\n",
    "healthy weight, 25 or more to be overweight, and 30 or more to be obese.\n",
    "\n",
    "We will code these categories using integers, as follows:\n",
    "\n",
    "0: underweight\n",
    "1: healthy weight\n",
    "2: overweight\n",
    "3: obese"
   ]
  },
  {
   "cell_type": "code",
   "execution_count": 49,
   "metadata": {},
   "outputs": [
    {
     "name": "stdout",
     "output_type": "stream",
     "text": [
      "[24.36, None, 27.35, 27.48, 29.11, 42.57, 46.8, 29.73, None, 21.3]\n"
     ]
    },
    {
     "data": {
      "text/plain": [
       "[1, None, 2, 2, 2, 3, 3, 2, None, 1]"
      ]
     },
     "execution_count": 49,
     "metadata": {},
     "output_type": "execute_result"
    }
   ],
   "source": [
    "def lookup_bmi_category(bmi):\n",
    "    if bmi is None: return None\n",
    "    elif bmi >= 30: return 3 \n",
    "    elif bmi >= 25: return 2\n",
    "    elif bmi >= 18.5: return 1\n",
    "    else: return 0"
   ]
  },
  {
   "cell_type": "markdown",
   "metadata": {},
   "source": [
    "## 1.5\n",
    "Provide tests for your ```lookup_bmi_category``` function, printing out the returned category\n",
    "for several diﬀerent inputs."
   ]
  },
  {
   "cell_type": "code",
   "execution_count": 73,
   "metadata": {},
   "outputs": [
    {
     "name": "stdout",
     "output_type": "stream",
     "text": [
      "[18.0, 18.5, 19.0, 19.5, 20.0, 20.5, 21.0, 21.5, 22.0, 22.5, 23.0, 23.5, 24.0, 24.5, 25.0, 25.5, None]\n",
      "[0, 1, 1, 1, 1, 1, 1, 1, 1, 1, 1, 1, 1, 1, 2, 2, None]\n"
     ]
    }
   ],
   "source": [
    "bmi_testval = [i/10 for i in range(180, 260, 5)]\n",
    "bmi_testval.append(None)\n",
    "\n",
    "print(bmi_testval)\n",
    "bmi_tests = [lookup_bmi_category(bmi) for bmi in bmi_testval]\n",
    "print(bmi_tests)\n",
    "\n",
    "# output is not ordered"
   ]
  },
  {
   "cell_type": "markdown",
   "metadata": {},
   "source": [
    "## 1.6\n",
    "Use the ```lookup_bmi_category``` function from question 3.5 to compute categories for all of the numeric values in list ```bmi_values``` from question 3.3, placing the numeric values in a new list, ```bmi_categories```. Print this new list out. One of the available points is for doing this using list comprehension."
   ]
  },
  {
   "cell_type": "code",
   "execution_count": 75,
   "metadata": {},
   "outputs": [
    {
     "name": "stdout",
     "output_type": "stream",
     "text": [
      "[1, None, 2, 2, 2, 3, 3, 2, None, 1]\n"
     ]
    }
   ],
   "source": [
    "bmi_categories = [lookup_bmi_category(bmi) for bmi in bmi_values]\n",
    "print(bmi_categories)"
   ]
  },
  {
   "cell_type": "markdown",
   "metadata": {},
   "source": [
    "## 1.7\n",
    "For each numeric value in the list ```bmi_categories```, place a boolean value of ```True```, ```False``` or ```None``` in a new list called ```obese```, depending on whether the BMI is deﬁned as obese, not obese, or undeﬁned. Print out this new list."
   ]
  },
  {
   "cell_type": "code",
   "execution_count": 96,
   "metadata": {},
   "outputs": [
    {
     "name": "stdout",
     "output_type": "stream",
     "text": [
      "[1, None, 2, 2, 2, 3, 3, 2, None, 1]\n",
      "[False, None, False, False, False, True, True, False, None, False]\n",
      "[False, False, False, False, False, True, True, False, False, False]\n"
     ]
    }
   ],
   "source": [
    "# well None == 3 returns False, not None\n",
    "def is_obese(cat):\n",
    "    if cat is None: return None\n",
    "    return cat==3\n",
    "\n",
    "\n",
    "obese = [is_obese(i) for i in bmi_categories]\n",
    "obese2 = [i==3 for i in bmi_categories]\n",
    "print(bmi_categories)\n",
    "print(obese)\n",
    "print(obese2)"
   ]
  }
 ],
 "metadata": {
  "interpreter": {
   "hash": "08e2e84546486c2044445a736a214ed62f1a22506b89afaacfc141956dd76d05"
  },
  "kernelspec": {
   "display_name": "Python 3.8.8 64-bit ('base': conda)",
   "name": "python3"
  },
  "language_info": {
   "codemirror_mode": {
    "name": "ipython",
    "version": 3
   },
   "file_extension": ".py",
   "mimetype": "text/x-python",
   "name": "python",
   "nbconvert_exporter": "python",
   "pygments_lexer": "ipython3",
   "version": "3.8.8"
  },
  "orig_nbformat": 4
 },
 "nbformat": 4,
 "nbformat_minor": 2
}
