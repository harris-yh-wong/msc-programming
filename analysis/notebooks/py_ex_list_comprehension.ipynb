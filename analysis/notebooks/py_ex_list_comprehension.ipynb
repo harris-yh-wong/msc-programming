{
 "cells": [
  {
   "cell_type": "code",
   "execution_count": 1,
   "metadata": {
    "colab": {},
    "colab_type": "code",
    "id": "GLT2nCb7EFN4"
   },
   "outputs": [],
   "source": [
    "# This is another code cell.\n",
    "# Write some Python code, and execute it.\n",
    "# When you have done, move to the next cell\n",
    "#\n",
    "# If you don't  think you know any Python, try some arithmetic\n",
    "\n",
    "nums = [i for i in range(1, 1001)]\n",
    "string = \"Practice Problems to Drill List Comprehension in Your Head\""
   ]
  },
  {
   "cell_type": "code",
   "execution_count": null,
   "metadata": {},
   "outputs": [],
   "source": [
    "# 1. Find all numbers from 1-1000 divisble by 8\n",
    "[i for i in nums if i % 8 == 0]"
   ]
  },
  {
   "cell_type": "code",
   "execution_count": null,
   "metadata": {},
   "outputs": [],
   "source": [
    "# 2. Find all numbers from 1-1000 that have a 6 in them\n",
    "[i for i in nums if \"6\" in str(i)]"
   ]
  },
  {
   "cell_type": "code",
   "execution_count": null,
   "metadata": {},
   "outputs": [],
   "source": [
    "# 3. Count the number of spaces in a string\n",
    "len( [c for c in string if c == \" \"] )"
   ]
  },
  {
   "cell_type": "code",
   "execution_count": null,
   "metadata": {},
   "outputs": [],
   "source": [
    "# 4. Remove all of the vowels in a string\n",
    "\"\".join([c for c in string if c.lower() not in \"aeiou\"])"
   ]
  },
  {
   "cell_type": "code",
   "execution_count": null,
   "metadata": {},
   "outputs": [],
   "source": [
    "# 5. Find all of the words in a string that are less than 5 letters\n",
    "[word for word in string.split(\" \") if len(word) < 5]"
   ]
  },
  {
   "cell_type": "code",
   "execution_count": 10,
   "metadata": {},
   "outputs": [],
   "source": [
    "# 6. Use a dictionary comprehension to count the length of each word in a sentence\n",
    "word_lengths = {word:len(word) for word in string.split(\" \")}"
   ]
  },
  {
   "cell_type": "code",
   "execution_count": 33,
   "metadata": {},
   "outputs": [
    {
     "data": {
      "text/plain": [
       "[2, 3, 4, 5, 6, 7, 8, 9, 10, 12, 14, 15, 16, 18, 20]"
      ]
     },
     "execution_count": 33,
     "metadata": {},
     "output_type": "execute_result"
    }
   ],
   "source": [
    "# 7. Use a nested list comprehension to find all of the numbers from 1-1000 that are divisible by any single digit besides 1 (i.e. 2-9)\n",
    "\n",
    "\n",
    "l = []\n",
    "for i in nums[1:20]:\n",
    "    for j in range(2,10):\n",
    "        if i % j == 0:\n",
    "            l.append(i)\n",
    "            break\n",
    "l\n",
    "\n",
    "\n",
    "\n",
    "\n",
    "#　[j for j in range(2,10)]\n"
   ]
  },
  {
   "cell_type": "code",
   "execution_count": null,
   "metadata": {},
   "outputs": [],
   "source": []
  },
  {
   "cell_type": "code",
   "execution_count": null,
   "metadata": {},
   "outputs": [],
   "source": []
  },
  {
   "cell_type": "code",
   "execution_count": null,
   "metadata": {},
   "outputs": [],
   "source": []
  },
  {
   "cell_type": "code",
   "execution_count": 18,
   "metadata": {},
   "outputs": [
    {
     "data": {
      "text/plain": [
       "[[0, 1, 2, 3], [0, 1, 2, 3]]"
      ]
     },
     "execution_count": 18,
     "metadata": {},
     "output_type": "execute_result"
    }
   ],
   "source": [
    "# 8. For all numbers 1-1000, use a nested list/dictionary comprehension to find the highest single digit any of the numbers if divisible by\n",
    "\n",
    "#dict\n",
    "# >>> [[j for j in range(4)] for i in range(2)]\n",
    "# [[0, 1, 2, 3], [0, 1, 2, 3]]\n",
    "# imagine if you write this in a for-loop, \n",
    "# then the 'innermost loop' goes first, the 'outermost loop' goes last\n",
    "\n",
    "\n"
   ]
  }
 ],
 "metadata": {
  "interpreter": {
   "hash": "08e2e84546486c2044445a736a214ed62f1a22506b89afaacfc141956dd76d05"
  },
  "kernelspec": {
   "display_name": "Python 3.8.8 64-bit ('base': conda)",
   "name": "python3"
  },
  "language_info": {
   "codemirror_mode": {
    "name": "ipython",
    "version": 3
   },
   "file_extension": ".py",
   "mimetype": "text/x-python",
   "name": "python",
   "nbconvert_exporter": "python",
   "pygments_lexer": "ipython3",
   "version": "3.8.8"
  },
  "orig_nbformat": 4
 },
 "nbformat": 4,
 "nbformat_minor": 2
}
